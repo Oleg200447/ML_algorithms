{
 "cells": [
  {
   "cell_type": "code",
   "execution_count": 1,
   "id": "5e65a8d1-8a6b-4e6a-8df2-95022abdc63e",
   "metadata": {},
   "outputs": [],
   "source": [
    "import numpy as np\n",
    "from numpy.typing import NDArray"
   ]
  },
  {
   "cell_type": "code",
   "execution_count": 2,
   "id": "64c84a66-f87f-4843-a5f2-5f559264430a",
   "metadata": {},
   "outputs": [],
   "source": [
    "class Node:\n",
    "    def __init__(self,value: np.float64,feature: int,answer: int = -1):   #<value\n",
    "        self.value=value\n",
    "        self.feature=feature\n",
    "        self.answer=answer\n",
    "        self.left=None\n",
    "        self.right=None\n",
    "        "
   ]
  },
  {
   "cell_type": "code",
   "execution_count": 3,
   "id": "a1b9e66b-c90f-4198-9cb1-f8582a1952bf",
   "metadata": {},
   "outputs": [],
   "source": [
    "class DecisionTree:\n",
    "    def __init__ (self,depth:int):\n",
    "        self.depth=depth\n",
    "        self.node = Node(np.nan,-1,-1)\n",
    "\n",
    "    def GiniCriteria(self, labels:NDArray[np.int32]):\n",
    "        uniqueValues, counts = np.unique(labels, return_counts=True)\n",
    "        return 1-np.sum((counts/labels.shape[0])**2)\n",
    "    \n",
    "    def lossFunction(self, fPartData:NDArray[np.float64],sPartData:NDArray[np.float64]):\n",
    "        numberOfExamples = fPartData.shape[0]+sPartData.shape[0]\n",
    "        return fPartData.shape[0]/numberOfExamples*self.GiniCriteria(fPartData[:,-1])+\\\n",
    "                    sPartData.shape[0]/numberOfExamples*self.GiniCriteria(sPartData[:,-1])\n",
    "\n",
    "    def __fitRecursion(self,node:Node,data: NDArray[np.float64],depth):\n",
    "        if depth == 0 or np.all(data[:,-1] == data[0,-1]):\n",
    "            labels, counts = np.unique(data[:,-1], return_counts=True) \n",
    "            node.value = np.nan\n",
    "            node.feature = -1\n",
    "            node.answer = labels[np.argmax(counts)]\n",
    "            return\n",
    "            \n",
    "        first=True\n",
    "        minLoss=np.inf\n",
    "        bestValue=0.0\n",
    "        bestFeature=0\n",
    "        for feature in range(data.shape[1]-1):\n",
    "            fragmentationValues = np.linspace(np.min(data[:,feature]),np.max(data[:,feature]) , num=50, dtype=np.float64)\n",
    "            for value in fragmentationValues:\n",
    "                fPartData = data[data[:,feature]<value]\n",
    "                sPartData = data[data[:,feature]>=value]\n",
    "                loss=self.lossFunction(fPartData,sPartData)\n",
    "                if first:\n",
    "                    minLoss=loss\n",
    "                    first=False\n",
    "                    bestValue,bestFeature=value,feature\n",
    "                elif loss<minLoss:\n",
    "                    minLoss = loss\n",
    "                    bestValue,bestFeature=value,feature\n",
    "\n",
    "        node.value = bestValue\n",
    "        node.feature = bestFeature\n",
    "        node.answer = np.nan\n",
    "        node.left = Node(np.nan, -1, -1)\n",
    "        node.right = Node(np.nan, -1, -1)\n",
    "        self.__fitRecursion(node.left,data[data[:,node.feature]<node.value],depth-1)\n",
    "        self.__fitRecursion(node.right,data[data[:,node.feature]>=node.value],depth-1)\n",
    "    \n",
    "    def fit(self,data: NDArray[np.float64]):\n",
    "       self.__fitRecursion(self.node,data,self.depth)\n",
    "\n",
    "\n",
    "    def predict(self,X:NDArray[np.float64])->int:\n",
    "        temp = self.node.answer\n",
    "        tempNode=self.node\n",
    "        while np.isnan(temp):\n",
    "            if X[tempNode.feature]<tempNode.value:\n",
    "               tempNode = tempNode.left\n",
    "            else:\n",
    "               tempNode = tempNode.right\n",
    "            temp = tempNode.answer\n",
    "        return temp\n",
    "            "
   ]
  },
  {
   "cell_type": "code",
   "execution_count": 4,
   "id": "d48eca97-bdf4-42b0-80b2-106ad960c2f8",
   "metadata": {},
   "outputs": [],
   "source": [
    "from sklearn.datasets import load_iris\n",
    "import pandas as pd"
   ]
  },
  {
   "cell_type": "code",
   "execution_count": 5,
   "id": "67936993-bd54-4a7d-9009-10553b8d5eb3",
   "metadata": {},
   "outputs": [
    {
     "name": "stdout",
     "output_type": "stream",
     "text": [
      "   sepal length (cm)  sepal width (cm)  petal length (cm)  petal width (cm)  \\\n",
      "0                5.1               3.5                1.4               0.2   \n",
      "1                4.9               3.0                1.4               0.2   \n",
      "2                4.7               3.2                1.3               0.2   \n",
      "3                4.6               3.1                1.5               0.2   \n",
      "4                5.0               3.6                1.4               0.2   \n",
      "\n",
      "   species  \n",
      "0        0  \n",
      "1        0  \n",
      "2        0  \n",
      "3        0  \n",
      "4        0  \n"
     ]
    }
   ],
   "source": [
    "iris = load_iris()\n",
    "X = iris.data\n",
    "y = iris.target\n",
    "df = pd.DataFrame(X, columns=iris.feature_names)\n",
    "#df['species'] = pd.Categorical.from_codes(y, iris.target_names)\n",
    "df['species'] = y\n",
    "\n",
    "print(df.head())"
   ]
  },
  {
   "cell_type": "code",
   "execution_count": 6,
   "id": "33352b50-34da-4105-aeb8-e5f23c06ede7",
   "metadata": {},
   "outputs": [
    {
     "data": {
      "text/html": [
       "<div>\n",
       "<style scoped>\n",
       "    .dataframe tbody tr th:only-of-type {\n",
       "        vertical-align: middle;\n",
       "    }\n",
       "\n",
       "    .dataframe tbody tr th {\n",
       "        vertical-align: top;\n",
       "    }\n",
       "\n",
       "    .dataframe thead th {\n",
       "        text-align: right;\n",
       "    }\n",
       "</style>\n",
       "<table border=\"1\" class=\"dataframe\">\n",
       "  <thead>\n",
       "    <tr style=\"text-align: right;\">\n",
       "      <th></th>\n",
       "      <th>sepal length (cm)</th>\n",
       "      <th>sepal width (cm)</th>\n",
       "      <th>petal length (cm)</th>\n",
       "      <th>petal width (cm)</th>\n",
       "      <th>species</th>\n",
       "    </tr>\n",
       "  </thead>\n",
       "  <tbody>\n",
       "    <tr>\n",
       "      <th>count</th>\n",
       "      <td>150.000000</td>\n",
       "      <td>150.000000</td>\n",
       "      <td>150.000000</td>\n",
       "      <td>150.000000</td>\n",
       "      <td>150.000000</td>\n",
       "    </tr>\n",
       "    <tr>\n",
       "      <th>mean</th>\n",
       "      <td>5.843333</td>\n",
       "      <td>3.057333</td>\n",
       "      <td>3.758000</td>\n",
       "      <td>1.199333</td>\n",
       "      <td>1.000000</td>\n",
       "    </tr>\n",
       "    <tr>\n",
       "      <th>std</th>\n",
       "      <td>0.828066</td>\n",
       "      <td>0.435866</td>\n",
       "      <td>1.765298</td>\n",
       "      <td>0.762238</td>\n",
       "      <td>0.819232</td>\n",
       "    </tr>\n",
       "    <tr>\n",
       "      <th>min</th>\n",
       "      <td>4.300000</td>\n",
       "      <td>2.000000</td>\n",
       "      <td>1.000000</td>\n",
       "      <td>0.100000</td>\n",
       "      <td>0.000000</td>\n",
       "    </tr>\n",
       "    <tr>\n",
       "      <th>25%</th>\n",
       "      <td>5.100000</td>\n",
       "      <td>2.800000</td>\n",
       "      <td>1.600000</td>\n",
       "      <td>0.300000</td>\n",
       "      <td>0.000000</td>\n",
       "    </tr>\n",
       "    <tr>\n",
       "      <th>50%</th>\n",
       "      <td>5.800000</td>\n",
       "      <td>3.000000</td>\n",
       "      <td>4.350000</td>\n",
       "      <td>1.300000</td>\n",
       "      <td>1.000000</td>\n",
       "    </tr>\n",
       "    <tr>\n",
       "      <th>75%</th>\n",
       "      <td>6.400000</td>\n",
       "      <td>3.300000</td>\n",
       "      <td>5.100000</td>\n",
       "      <td>1.800000</td>\n",
       "      <td>2.000000</td>\n",
       "    </tr>\n",
       "    <tr>\n",
       "      <th>max</th>\n",
       "      <td>7.900000</td>\n",
       "      <td>4.400000</td>\n",
       "      <td>6.900000</td>\n",
       "      <td>2.500000</td>\n",
       "      <td>2.000000</td>\n",
       "    </tr>\n",
       "  </tbody>\n",
       "</table>\n",
       "</div>"
      ],
      "text/plain": [
       "       sepal length (cm)  sepal width (cm)  petal length (cm)  \\\n",
       "count         150.000000        150.000000         150.000000   \n",
       "mean            5.843333          3.057333           3.758000   \n",
       "std             0.828066          0.435866           1.765298   \n",
       "min             4.300000          2.000000           1.000000   \n",
       "25%             5.100000          2.800000           1.600000   \n",
       "50%             5.800000          3.000000           4.350000   \n",
       "75%             6.400000          3.300000           5.100000   \n",
       "max             7.900000          4.400000           6.900000   \n",
       "\n",
       "       petal width (cm)     species  \n",
       "count        150.000000  150.000000  \n",
       "mean           1.199333    1.000000  \n",
       "std            0.762238    0.819232  \n",
       "min            0.100000    0.000000  \n",
       "25%            0.300000    0.000000  \n",
       "50%            1.300000    1.000000  \n",
       "75%            1.800000    2.000000  \n",
       "max            2.500000    2.000000  "
      ]
     },
     "execution_count": 6,
     "metadata": {},
     "output_type": "execute_result"
    }
   ],
   "source": [
    "df.describe()\n"
   ]
  },
  {
   "cell_type": "code",
   "execution_count": 7,
   "id": "3d177c1b-9b87-443a-bff1-f9c9c00b1cb1",
   "metadata": {},
   "outputs": [],
   "source": [
    "df = df.drop(['sepal length (cm)','sepal width (cm)'], axis=1)"
   ]
  },
  {
   "cell_type": "code",
   "execution_count": 8,
   "id": "fb3ebf33-62ef-4d0d-a0a0-a53a62cc9eb0",
   "metadata": {},
   "outputs": [],
   "source": [
    "from sklearn.model_selection import train_test_split"
   ]
  },
  {
   "cell_type": "code",
   "execution_count": 9,
   "id": "30e3d593-467c-43b0-a127-64bdce4df94f",
   "metadata": {},
   "outputs": [],
   "source": [
    "train_df, test_df = train_test_split(df, test_size=0.2, random_state=42, stratify=df['species'])"
   ]
  },
  {
   "cell_type": "code",
   "execution_count": 10,
   "id": "3328b23d-d8fa-4393-bf74-b431364221a9",
   "metadata": {},
   "outputs": [],
   "source": [
    "dt = DecisionTree(3)"
   ]
  },
  {
   "cell_type": "code",
   "execution_count": 11,
   "id": "0e914029-1715-49bb-a713-ec9303b75f24",
   "metadata": {},
   "outputs": [
    {
     "name": "stdout",
     "output_type": "stream",
     "text": [
      "     petal length (cm)  petal width (cm)  species\n",
      "8                  1.4               0.2        0\n",
      "106                4.5               1.7        2\n",
      "76                 4.8               1.4        1\n",
      "9                  1.5               0.1        0\n",
      "89                 4.0               1.3        1\n",
      "..                 ...               ...      ...\n",
      "37                 1.4               0.1        0\n",
      "2                  1.3               0.2        0\n",
      "33                 1.4               0.2        0\n",
      "52                 4.9               1.5        1\n",
      "3                  1.5               0.2        0\n",
      "\n",
      "[120 rows x 3 columns]\n",
      "[[1.4 0.2 0. ]\n",
      " [4.5 1.7 2. ]\n",
      " [4.8 1.4 1. ]\n",
      " [1.5 0.1 0. ]\n",
      " [4.  1.3 1. ]\n",
      " [5.  1.9 2. ]\n",
      " [4.2 1.3 1. ]\n",
      " [5.1 1.5 2. ]\n",
      " [6.1 2.3 2. ]\n",
      " [6.7 2.2 2. ]\n",
      " [6.6 2.1 2. ]\n",
      " [4.5 1.5 1. ]\n",
      " [3.5 1.  1. ]\n",
      " [4.1 1.  1. ]\n",
      " [4.  1.2 1. ]\n",
      " [1.6 0.2 0. ]\n",
      " [1.5 0.3 0. ]\n",
      " [5.8 1.8 2. ]\n",
      " [5.5 1.8 2. ]\n",
      " [1.5 0.4 0. ]\n",
      " [4.9 1.5 1. ]\n",
      " [1.6 0.2 0. ]\n",
      " [6.4 2.  2. ]\n",
      " [1.6 0.2 0. ]\n",
      " [3.7 1.  1. ]\n",
      " [5.6 1.8 2. ]\n",
      " [5.3 1.9 2. ]\n",
      " [1.6 0.4 0. ]\n",
      " [4.9 2.  2. ]\n",
      " [1.3 0.3 0. ]\n",
      " [1.5 0.4 0. ]\n",
      " [4.  1.3 1. ]\n",
      " [4.6 1.4 1. ]\n",
      " [1.5 0.4 0. ]\n",
      " [5.4 2.1 2. ]\n",
      " [5.4 2.3 2. ]\n",
      " [3.5 1.  1. ]\n",
      " [3.9 1.4 1. ]\n",
      " [5.7 2.5 2. ]\n",
      " [4.8 1.8 1. ]\n",
      " [1.4 0.3 0. ]\n",
      " [4.7 1.4 1. ]\n",
      " [1.3 0.4 0. ]\n",
      " [6.1 1.9 2. ]\n",
      " [1.4 0.2 0. ]\n",
      " [1.4 0.3 0. ]\n",
      " [5.1 1.9 2. ]\n",
      " [1.2 0.2 0. ]\n",
      " [1.3 0.3 0. ]\n",
      " [1.4 0.1 0. ]\n",
      " [1.4 0.3 0. ]\n",
      " [3.6 1.3 1. ]\n",
      " [6.  2.5 2. ]\n",
      " [4.5 1.3 1. ]\n",
      " [1.4 0.2 0. ]\n",
      " [5.1 1.8 2. ]\n",
      " [4.1 1.3 1. ]\n",
      " [5.6 2.4 2. ]\n",
      " [1.4 0.2 0. ]\n",
      " [5.1 1.9 2. ]\n",
      " [1.3 0.2 0. ]\n",
      " [4.  1.3 1. ]\n",
      " [5.  2.  2. ]\n",
      " [1.9 0.2 0. ]\n",
      " [5.1 1.6 1. ]\n",
      " [4.4 1.2 1. ]\n",
      " [6.7 2.  2. ]\n",
      " [4.5 1.5 1. ]\n",
      " [4.6 1.5 1. ]\n",
      " [5.3 2.3 2. ]\n",
      " [1.5 0.2 0. ]\n",
      " [1.7 0.5 0. ]\n",
      " [1.4 0.2 0. ]\n",
      " [5.  1.5 2. ]\n",
      " [3.9 1.2 1. ]\n",
      " [5.8 1.6 2. ]\n",
      " [3.8 1.1 1. ]\n",
      " [5.2 2.3 2. ]\n",
      " [4.9 1.8 2. ]\n",
      " [4.5 1.6 1. ]\n",
      " [1.5 0.2 0. ]\n",
      " [5.1 2.4 2. ]\n",
      " [4.5 1.5 1. ]\n",
      " [1.6 0.6 0. ]\n",
      " [5.7 2.3 2. ]\n",
      " [1.5 0.1 0. ]\n",
      " [6.1 2.5 2. ]\n",
      " [3.  1.1 1. ]\n",
      " [4.7 1.5 1. ]\n",
      " [1.6 0.2 0. ]\n",
      " [4.3 1.3 1. ]\n",
      " [5.1 2.  2. ]\n",
      " [1.9 0.4 0. ]\n",
      " [1.1 0.1 0. ]\n",
      " [5.7 2.1 2. ]\n",
      " [6.9 2.3 2. ]\n",
      " [5.5 2.1 2. ]\n",
      " [4.4 1.3 1. ]\n",
      " [4.8 1.8 2. ]\n",
      " [1.7 0.4 0. ]\n",
      " [5.9 2.3 2. ]\n",
      " [4.2 1.3 1. ]\n",
      " [6.  1.8 2. ]\n",
      " [5.9 2.1 2. ]\n",
      " [1.5 0.2 0. ]\n",
      " [4.3 1.3 1. ]\n",
      " [4.7 1.2 1. ]\n",
      " [4.2 1.2 1. ]\n",
      " [4.1 1.3 1. ]\n",
      " [4.4 1.4 1. ]\n",
      " [1.5 0.2 0. ]\n",
      " [5.6 2.1 2. ]\n",
      " [4.  1.  1. ]\n",
      " [4.2 1.5 1. ]\n",
      " [1.6 0.2 0. ]\n",
      " [1.4 0.1 0. ]\n",
      " [1.3 0.2 0. ]\n",
      " [1.4 0.2 0. ]\n",
      " [4.9 1.5 1. ]\n",
      " [1.5 0.2 0. ]]\n"
     ]
    }
   ],
   "source": [
    "print(train_df)\n",
    "print((train_df.to_numpy()))"
   ]
  },
  {
   "cell_type": "code",
   "execution_count": 12,
   "id": "b1849dfb-1302-4707-8e73-8ee66e3ed694",
   "metadata": {},
   "outputs": [],
   "source": [
    "dt.fit(train_df.to_numpy())"
   ]
  },
  {
   "cell_type": "code",
   "execution_count": 13,
   "id": "b8f8ea1b-abb9-4db9-b3c2-bb6cfabc909f",
   "metadata": {},
   "outputs": [
    {
     "name": "stdout",
     "output_type": "stream",
     "text": [
      "[10 10 10]\n"
     ]
    }
   ],
   "source": [
    "val,counts=np.unique((test_df.to_numpy())[:,-1], return_counts=True)\n",
    "print(counts)"
   ]
  },
  {
   "cell_type": "code",
   "execution_count": 14,
   "id": "6ecab20e-5c35-4feb-b74b-736858f72266",
   "metadata": {},
   "outputs": [],
   "source": [
    "y_pred=np.array([dt.predict(X) for X in (test_df.to_numpy())[:,:2]])"
   ]
  },
  {
   "cell_type": "code",
   "execution_count": 15,
   "id": "89d0cde3-9589-401d-85bb-65d64ee826e0",
   "metadata": {},
   "outputs": [],
   "source": [
    "from sklearn.metrics import accuracy_score"
   ]
  },
  {
   "cell_type": "code",
   "execution_count": 16,
   "id": "467ded68-e427-40c3-8f44-5aa29c591000",
   "metadata": {},
   "outputs": [],
   "source": [
    "accuracy = accuracy_score((test_df.to_numpy())[:,-1], y_pred)"
   ]
  },
  {
   "cell_type": "code",
   "execution_count": 49,
   "id": "6e1a2450-7c3f-4a92-81b8-e3cb85842925",
   "metadata": {},
   "outputs": [
    {
     "data": {
      "text/plain": [
       "0.9666666666666667"
      ]
     },
     "execution_count": 49,
     "metadata": {},
     "output_type": "execute_result"
    }
   ],
   "source": [
    "accuracy"
   ]
  }
 ],
 "metadata": {
  "kernelspec": {
   "display_name": "myenv",
   "language": "python",
   "name": "myenv"
  },
  "language_info": {
   "codemirror_mode": {
    "name": "ipython",
    "version": 3
   },
   "file_extension": ".py",
   "mimetype": "text/x-python",
   "name": "python",
   "nbconvert_exporter": "python",
   "pygments_lexer": "ipython3",
   "version": "3.9.10"
  }
 },
 "nbformat": 4,
 "nbformat_minor": 5
}
